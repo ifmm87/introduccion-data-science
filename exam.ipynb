{
 "cells": [
  {
   "cell_type": "code",
   "execution_count": 1,
   "metadata": {},
   "outputs": [
    {
     "data": {
      "text/html": [
       "<div>\n",
       "<style scoped>\n",
       "    .dataframe tbody tr th:only-of-type {\n",
       "        vertical-align: middle;\n",
       "    }\n",
       "\n",
       "    .dataframe tbody tr th {\n",
       "        vertical-align: top;\n",
       "    }\n",
       "\n",
       "    .dataframe thead th {\n",
       "        text-align: right;\n",
       "    }\n",
       "</style>\n",
       "<table border=\"1\" class=\"dataframe\">\n",
       "  <thead>\n",
       "    <tr style=\"text-align: right;\">\n",
       "      <th></th>\n",
       "      <th>gestion</th>\n",
       "      <th>departamento</th>\n",
       "      <th>tipo</th>\n",
       "      <th>cantidad</th>\n",
       "    </tr>\n",
       "  </thead>\n",
       "  <tbody>\n",
       "    <tr>\n",
       "      <th>0</th>\n",
       "      <td>2005</td>\n",
       "      <td>BENI</td>\n",
       "      <td>EMPRESA UNIPERSONAL</td>\n",
       "      <td>898</td>\n",
       "    </tr>\n",
       "    <tr>\n",
       "      <th>1</th>\n",
       "      <td>2005</td>\n",
       "      <td>BENI</td>\n",
       "      <td>SOCIEDAD ANONIMA</td>\n",
       "      <td>21</td>\n",
       "    </tr>\n",
       "    <tr>\n",
       "      <th>2</th>\n",
       "      <td>2005</td>\n",
       "      <td>BENI</td>\n",
       "      <td>SOCIEDAD DE RESPONSABILIDAD LIMITADA</td>\n",
       "      <td>283</td>\n",
       "    </tr>\n",
       "    <tr>\n",
       "      <th>3</th>\n",
       "      <td>2005</td>\n",
       "      <td>CHUQUISACA</td>\n",
       "      <td>EMPRESA UNIPERSONAL</td>\n",
       "      <td>2106</td>\n",
       "    </tr>\n",
       "    <tr>\n",
       "      <th>4</th>\n",
       "      <td>2005</td>\n",
       "      <td>CHUQUISACA</td>\n",
       "      <td>SOCIEDAD ANONIMA</td>\n",
       "      <td>21</td>\n",
       "    </tr>\n",
       "    <tr>\n",
       "      <th>...</th>\n",
       "      <td>...</td>\n",
       "      <td>...</td>\n",
       "      <td>...</td>\n",
       "      <td>...</td>\n",
       "    </tr>\n",
       "    <tr>\n",
       "      <th>701</th>\n",
       "      <td>2017</td>\n",
       "      <td>TARIJA</td>\n",
       "      <td>SOCIEDAD ANONIMA</td>\n",
       "      <td>48</td>\n",
       "    </tr>\n",
       "    <tr>\n",
       "      <th>702</th>\n",
       "      <td>2017</td>\n",
       "      <td>TARIJA</td>\n",
       "      <td>SOCIEDAD COLECTIVA</td>\n",
       "      <td>1</td>\n",
       "    </tr>\n",
       "    <tr>\n",
       "      <th>703</th>\n",
       "      <td>2017</td>\n",
       "      <td>TARIJA</td>\n",
       "      <td>SOCIEDAD CONSTITUIDA EN EL EXTRANJERO</td>\n",
       "      <td>8</td>\n",
       "    </tr>\n",
       "    <tr>\n",
       "      <th>704</th>\n",
       "      <td>2017</td>\n",
       "      <td>TARIJA</td>\n",
       "      <td>SOCIEDAD DE RESPONSABILIDAD LIMITADA</td>\n",
       "      <td>2178</td>\n",
       "    </tr>\n",
       "    <tr>\n",
       "      <th>705</th>\n",
       "      <td>2017</td>\n",
       "      <td>TARIJA</td>\n",
       "      <td>SOCIEDAD EN COMANDITA POR ACCIONES</td>\n",
       "      <td>1</td>\n",
       "    </tr>\n",
       "  </tbody>\n",
       "</table>\n",
       "<p>706 rows × 4 columns</p>\n",
       "</div>"
      ],
      "text/plain": [
       "     gestion departamento                                   tipo  cantidad\n",
       "0       2005         BENI                    EMPRESA UNIPERSONAL       898\n",
       "1       2005         BENI                       SOCIEDAD ANONIMA        21\n",
       "2       2005         BENI   SOCIEDAD DE RESPONSABILIDAD LIMITADA       283\n",
       "3       2005   CHUQUISACA                    EMPRESA UNIPERSONAL      2106\n",
       "4       2005   CHUQUISACA                       SOCIEDAD ANONIMA        21\n",
       "..       ...          ...                                    ...       ...\n",
       "701     2017       TARIJA                       SOCIEDAD ANONIMA        48\n",
       "702     2017       TARIJA                     SOCIEDAD COLECTIVA         1\n",
       "703     2017       TARIJA  SOCIEDAD CONSTITUIDA EN EL EXTRANJERO         8\n",
       "704     2017       TARIJA   SOCIEDAD DE RESPONSABILIDAD LIMITADA      2178\n",
       "705     2017       TARIJA     SOCIEDAD EN COMANDITA POR ACCIONES         1\n",
       "\n",
       "[706 rows x 4 columns]"
      ]
     },
     "execution_count": 1,
     "metadata": {},
     "output_type": "execute_result"
    }
   ],
   "source": [
    "import numpy as np\n",
    "import pandas as pd\n",
    "\n",
    "padron_empresas = pd.read_csv('data/datos_empresas.csv')\n",
    "padron_empresas"
   ]
  },
  {
   "cell_type": "code",
   "execution_count": 11,
   "metadata": {},
   "outputs": [
    {
     "data": {
      "text/html": [
       "<div>\n",
       "<style scoped>\n",
       "    .dataframe tbody tr th:only-of-type {\n",
       "        vertical-align: middle;\n",
       "    }\n",
       "\n",
       "    .dataframe tbody tr th {\n",
       "        vertical-align: top;\n",
       "    }\n",
       "\n",
       "    .dataframe thead th {\n",
       "        text-align: right;\n",
       "    }\n",
       "</style>\n",
       "<table border=\"1\" class=\"dataframe\">\n",
       "  <thead>\n",
       "    <tr style=\"text-align: right;\">\n",
       "      <th></th>\n",
       "      <th>gestion</th>\n",
       "      <th>cantidad</th>\n",
       "    </tr>\n",
       "  </thead>\n",
       "  <tbody>\n",
       "    <tr>\n",
       "      <th>0</th>\n",
       "      <td>2005</td>\n",
       "      <td>64633</td>\n",
       "    </tr>\n",
       "    <tr>\n",
       "      <th>1</th>\n",
       "      <td>2006</td>\n",
       "      <td>72969</td>\n",
       "    </tr>\n",
       "    <tr>\n",
       "      <th>2</th>\n",
       "      <td>2007</td>\n",
       "      <td>81191</td>\n",
       "    </tr>\n",
       "    <tr>\n",
       "      <th>3</th>\n",
       "      <td>2008</td>\n",
       "      <td>90398</td>\n",
       "    </tr>\n",
       "    <tr>\n",
       "      <th>4</th>\n",
       "      <td>2009</td>\n",
       "      <td>103353</td>\n",
       "    </tr>\n",
       "    <tr>\n",
       "      <th>5</th>\n",
       "      <td>2010</td>\n",
       "      <td>116857</td>\n",
       "    </tr>\n",
       "    <tr>\n",
       "      <th>6</th>\n",
       "      <td>2011</td>\n",
       "      <td>129724</td>\n",
       "    </tr>\n",
       "    <tr>\n",
       "      <th>7</th>\n",
       "      <td>2012</td>\n",
       "      <td>153792</td>\n",
       "    </tr>\n",
       "    <tr>\n",
       "      <th>8</th>\n",
       "      <td>2013</td>\n",
       "      <td>217164</td>\n",
       "    </tr>\n",
       "    <tr>\n",
       "      <th>9</th>\n",
       "      <td>2014</td>\n",
       "      <td>257564</td>\n",
       "    </tr>\n",
       "    <tr>\n",
       "      <th>10</th>\n",
       "      <td>2015</td>\n",
       "      <td>272249</td>\n",
       "    </tr>\n",
       "    <tr>\n",
       "      <th>11</th>\n",
       "      <td>2016</td>\n",
       "      <td>284271</td>\n",
       "    </tr>\n",
       "    <tr>\n",
       "      <th>12</th>\n",
       "      <td>2017</td>\n",
       "      <td>292481</td>\n",
       "    </tr>\n",
       "  </tbody>\n",
       "</table>\n",
       "</div>"
      ],
      "text/plain": [
       "    gestion  cantidad\n",
       "0      2005     64633\n",
       "1      2006     72969\n",
       "2      2007     81191\n",
       "3      2008     90398\n",
       "4      2009    103353\n",
       "5      2010    116857\n",
       "6      2011    129724\n",
       "7      2012    153792\n",
       "8      2013    217164\n",
       "9      2014    257564\n",
       "10     2015    272249\n",
       "11     2016    284271\n",
       "12     2017    292481"
      ]
     },
     "execution_count": 11,
     "metadata": {},
     "output_type": "execute_result"
    }
   ],
   "source": [
    "# ver la serie de tiempo por anio\n",
    "# agrupar por anio\n",
    "serie_anual_df = padron_empresas.groupby('gestion').sum()\n",
    "#reindexar \n",
    "serie_anual_df= serie_anual_df.reset_index()\n",
    "serie_anual_df"
   ]
  },
  {
   "cell_type": "code",
   "execution_count": 26,
   "metadata": {},
   "outputs": [
    {
     "data": {
      "image/png": "[encoded data removed]",
      "text/plain": [
       "<Figure size 432x288 with 1 Axes>"
      ]
     },
     "metadata": {},
     "output_type": "display_data"
    }
   ],
   "source": [
    "%matplotlib inline\n",
    "import matplotlib.pyplot as plt\n",
    "import seaborn; seaborn.set()\n",
    "serie_anual_plot = serie_anual_df.plot(x='gestion', y='cantidad', kind='bar')\n",
    "plt.title('Numero de empresas registradas por gestión')\n",
    "# para poner labels\n",
    "for p in serie_anual_plot.patches:\n",
    "    serie_anual_plot.annotate(str(p.get_height()), (p.get_x() * 1.005, p.get_height() * 1.005))\n"
   ]
  },
  {
   "cell_type": "code",
   "execution_count": 74,
   "metadata": {},
   "outputs": [
    {
     "name": "stdout",
     "output_type": "stream",
     "text": [
      "    gestiones  crecimiento\n",
      "0        2005     0.000000\n",
      "1        2006    11.424029\n",
      "2        2007    10.126738\n",
      "3        2008    10.184960\n",
      "4        2009    12.534711\n",
      "5        2010    11.556004\n",
      "6        2011     9.918751\n",
      "7        2012    15.649709\n",
      "8        2013    29.181632\n",
      "9        2014    15.685422\n",
      "10       2015     5.393959\n",
      "11       2016     4.229063\n",
      "12       2017     2.807020\n"
     ]
    },
    {
     "data": {
      "text/plain": [
       "Text(0.5, 1.0, 'Numero de empresas registradas por gestión')"
      ]
     },
     "execution_count": 74,
     "metadata": {},
     "output_type": "execute_result"
    },
    {
     "data": {
      "image/png": "[encoded data removed]",
      "text/plain": [
       "<Figure size 432x288 with 1 Axes>"
      ]
     },
     "metadata": {},
     "output_type": "display_data"
    }
   ],
   "source": [
    "# crecimiento por anio en creacion de empresas\n",
    "\n",
    "gestiones = serie_anual_df['gestion']\n",
    "cantidades = serie_anual_df['cantidad']\n",
    "crecimiento= [0] * len(gestiones)\n",
    "for i in range(len(gestiones) -1):\n",
    "    crecimiento[i+1] = ((cantidades[i+1] - cantidades[i]) / cantidades[i+1] * 100) \n",
    "crecimiento = pd.Series(crecimiento)\n",
    "crecimiento, gestiones,cantidades\n",
    "# creamos nuevo dataframe\n",
    "crecimiento_df = pd.DataFrame({'gestiones': gestiones, 'crecimiento': crecimiento})\n",
    "print(crecimiento_df)\n",
    "## graficando el crecimiento\n",
    "%matplotlib inline\n",
    "import matplotlib.pyplot as plt\n",
    "import seaborn; seaborn.set()\n",
    "crecimiento_df.plot(x='gestiones', y='crecimiento', kind='line')\n",
    "plt.title('Numero de empresas registradas por gestión')\n",
    "# para poner labels\n"
   ]
  },
  {
   "cell_type": "code",
   "execution_count": null,
   "metadata": {},
   "outputs": [],
   "source": [
    "# Analisis en la gestion 2017\n",
    "\n",
    "# distribucion de tipos dee mpresas el ultimo anio a nivel nacional\n",
    "\n"
   ]
  },
  {
   "cell_type": "code",
   "execution_count": null,
   "metadata": {},
   "outputs": [],
   "source": [
    "# comparativa eje central "
   ]
  },
  {
   "cell_type": "code",
   "execution_count": null,
   "metadata": {},
   "outputs": [],
   "source": [
    "# participacion porcentual en la paz, el ultimo anio"
   ]
  }
 ],
 "metadata": {
  "kernelspec": {
   "display_name": "Python 3",
   "language": "python",
   "name": "python3"
  },
  "language_info": {
   "codemirror_mode": {
    "name": "ipython",
    "version": 3
   },
   "file_extension": ".py",
   "mimetype": "text/x-python",
   "name": "python",
   "nbconvert_exporter": "python",
   "pygments_lexer": "ipython3",
   "version": "3.8.3"
  }
 },
 "nbformat": 4,
 "nbformat_minor": 4
}
