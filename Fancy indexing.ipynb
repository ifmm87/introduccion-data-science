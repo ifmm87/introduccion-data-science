{
 "cells": [
  {
   "cell_type": "code",
   "execution_count": 2,
   "metadata": {},
   "outputs": [
    {
     "data": {
      "text/plain": [
       "array([51, 92, 14, 71, 60, 20, 82, 86, 74, 74])"
      ]
     },
     "execution_count": 2,
     "metadata": {},
     "output_type": "execute_result"
    }
   ],
   "source": [
    "import numpy as np\n",
    "rand = np.random.RandomState(42)\n",
    "x = rand.randint(100, size=10)\n",
    "x"
   ]
  },
  {
   "cell_type": "code",
   "execution_count": 4,
   "metadata": {},
   "outputs": [
    {
     "data": {
      "text/plain": [
       "array([92, 60, 74, 74])"
      ]
     },
     "execution_count": 4,
     "metadata": {},
     "output_type": "execute_result"
    }
   ],
   "source": [
    "indices = [1, 4,8, 9]\n",
    "x [indices]"
   ]
  },
  {
   "cell_type": "code",
   "execution_count": 5,
   "metadata": {},
   "outputs": [
    {
     "data": {
      "text/plain": [
       "array([[92, 60],\n",
       "       [74, 74]])"
      ]
     },
     "execution_count": 5,
     "metadata": {},
     "output_type": "execute_result"
    }
   ],
   "source": [
    "indices = np.array([\n",
    "    [1,4], [8,9]\n",
    "])\n",
    "x[indices]"
   ]
  },
  {
   "cell_type": "code",
   "execution_count": 8,
   "metadata": {},
   "outputs": [
    {
     "name": "stdout",
     "output_type": "stream",
     "text": [
      "[[ 0  1  2  3]\n",
      " [ 4  5  6  7]\n",
      " [ 8  9 10 11]]\n"
     ]
    },
    {
     "data": {
      "text/plain": [
       "array([ 2,  5, 11])"
      ]
     },
     "execution_count": 8,
     "metadata": {},
     "output_type": "execute_result"
    }
   ],
   "source": [
    "X = np.arange(12).reshape((3, 4))\n",
    "print(X)\n",
    "row = np.array([0,1,2])\n",
    "col = np.array([2,1,3])\n",
    "X[row, col]"
   ]
  },
  {
   "cell_type": "code",
   "execution_count": 11,
   "metadata": {},
   "outputs": [
    {
     "data": {
      "text/plain": [
       "array([10,  8,  9])"
      ]
     },
     "execution_count": 11,
     "metadata": {},
     "output_type": "execute_result"
    }
   ],
   "source": [
    "X[2,[2,0,1]]\n"
   ]
  },
  {
   "cell_type": "code",
   "execution_count": 17,
   "metadata": {},
   "outputs": [
    {
     "name": "stdout",
     "output_type": "stream",
     "text": [
      "[[ 0  1  2  3]\n",
      " [ 4  5  6  7]\n",
      " [ 8  9 10 11]]\n"
     ]
    },
    {
     "data": {
      "text/plain": [
       "array([[ 0,  2],\n",
       "       [ 4,  6],\n",
       "       [ 8, 10]])"
      ]
     },
     "execution_count": 17,
     "metadata": {},
     "output_type": "execute_result"
    }
   ],
   "source": [
    "print(X)\n",
    "mask = np.array([1, 0, 1, 0], dtype=bool)\n",
    "mask\n",
    "X[row[:,np.newaxis], mask]\n"
   ]
  },
  {
   "cell_type": "code",
   "execution_count": 24,
   "metadata": {},
   "outputs": [
    {
     "data": {
      "text/plain": [
       "array([1988,   10, 1988,   15, 1988,    6, 1988,   13,    6,   11,   12,\n",
       "          6,    4,   10,    0,   18,   17,   14,    4,    1,   17,   10,\n",
       "          0,   18,   14,    3,    0,    8,   16,    9,   18,   16,   18,\n",
       "          7,    3,   13,    6,   17,   13,    6])"
      ]
     },
     "execution_count": 24,
     "metadata": {},
     "output_type": "execute_result"
    }
   ],
   "source": [
    "x = np.random.randint(20, size=(40))\n",
    "indices = [0,2,4,6]\n",
    "\n",
    "x[indices] = 1987\n",
    "x[indices] +=1\n",
    "x"
   ]
  },
  {
   "cell_type": "code",
   "execution_count": 26,
   "metadata": {},
   "outputs": [
    {
     "data": {
      "text/plain": [
       "array([1, 2, 4, 5, 6])"
      ]
     },
     "execution_count": 26,
     "metadata": {},
     "output_type": "execute_result"
    }
   ],
   "source": [
    "import numpy as np\n",
    "\n",
    "def selection_sort(x):\n",
    "    for i in range(len(x)):\n",
    "        swap = i + np.argmin(x[i:])\n",
    "        (x[i], x[swap]) = (x[swap], x[i])\n",
    "    return x\n",
    "x = np.array([2,1,4,5,6])\n",
    "selection_sort(x)"
   ]
  },
  {
   "cell_type": "code",
   "execution_count": 33,
   "metadata": {},
   "outputs": [
    {
     "name": "stdout",
     "output_type": "stream",
     "text": [
      "[16 38 12 18  2  5 12 27  7 22 18 26  6  2  5 23 31 14 27 34 12  8 17 24\n",
      " 37 27 24 27 19 37 42 25 10]\n",
      "[ 4 13  5 14 12  8 21 32  2 20  6 17  0 22  3 10 28  9 15 23 26 31 11  7\n",
      " 18 27 25 16 19 29 24  1 30]\n"
     ]
    }
   ],
   "source": [
    "x = np.random.randint(44, size=(33))\n",
    "print(x)\n",
    "i = np.argsort(x)\n",
    "print(i)"
   ]
  },
  {
   "cell_type": "code",
   "execution_count": null,
   "metadata": {},
   "outputs": [],
   "source": []
  },
  {
   "cell_type": "code",
   "execution_count": 32,
   "metadata": {},
   "outputs": [
    {
     "data": {
      "text/plain": [
       "array([ 0,  0,  0,  3,  4,  5,  6, 14, 14, 16, 17, 18, 18, 18, 20, 20, 21,\n",
       "       24, 24, 25, 25, 27, 27, 33, 35, 36, 36, 37, 38, 38, 39, 39, 40])"
      ]
     },
     "execution_count": 32,
     "metadata": {},
     "output_type": "execute_result"
    }
   ],
   "source": [
    "x.sort()\n",
    "x"
   ]
  },
  {
   "cell_type": "code",
   "execution_count": 34,
   "metadata": {},
   "outputs": [
    {
     "name": "stdout",
     "output_type": "stream",
     "text": [
      "[[6 3 7 4 6 9]\n",
      " [2 6 7 4 3 7]\n",
      " [7 2 5 4 1 7]\n",
      " [5 1 4 0 9 5]]\n"
     ]
    }
   ],
   "source": [
    "rand = np.random.RandomState(42)\n",
    "X = rand.randint(0, 10, (4, 6))\n",
    "print(X)"
   ]
  },
  {
   "cell_type": "code",
   "execution_count": 35,
   "metadata": {},
   "outputs": [
    {
     "data": {
      "text/plain": [
       "array([[2, 1, 4, 0, 1, 5],\n",
       "       [5, 2, 5, 4, 3, 7],\n",
       "       [6, 3, 7, 4, 6, 7],\n",
       "       [7, 6, 7, 4, 9, 9]])"
      ]
     },
     "execution_count": 35,
     "metadata": {},
     "output_type": "execute_result"
    }
   ],
   "source": [
    "np.sort(X, axis=0)"
   ]
  },
  {
   "cell_type": "code",
   "execution_count": 38,
   "metadata": {
    "scrolled": true
   },
   "outputs": [
    {
     "data": {
      "text/plain": [
       "array([14,  7, 20, 29, 29, 29,  6, 16,  0,  3])"
      ]
     },
     "execution_count": 38,
     "metadata": {},
     "output_type": "execute_result"
    }
   ],
   "source": [
    "X = np.random.randint(30, size=(10))\n",
    "X"
   ]
  },
  {
   "cell_type": "code",
   "execution_count": 39,
   "metadata": {},
   "outputs": [
    {
     "data": {
      "text/plain": [
       "array([ 7,  3,  0,  6, 14, 29, 29, 16, 20, 29])"
      ]
     },
     "execution_count": 39,
     "metadata": {},
     "output_type": "execute_result"
    }
   ],
   "source": [
    "np.partition(X, 4)"
   ]
  },
  {
   "cell_type": "code",
   "execution_count": 46,
   "metadata": {},
   "outputs": [
    {
     "data": {
      "text/plain": [
       "array([[0.52083426, 0.96117202],\n",
       "       [0.84453385, 0.74732011],\n",
       "       [0.53969213, 0.58675117],\n",
       "       [0.96525531, 0.60703425],\n",
       "       [0.27599918, 0.29627351],\n",
       "       [0.16526694, 0.01563641],\n",
       "       [0.42340148, 0.39488152],\n",
       "       [0.29348817, 0.01407982],\n",
       "       [0.1988424 , 0.71134195],\n",
       "       [0.79017554, 0.60595997]])"
      ]
     },
     "execution_count": 46,
     "metadata": {},
     "output_type": "execute_result"
    }
   ],
   "source": [
    "X = rand.rand(10,2)\n",
    "X"
   ]
  },
  {
   "cell_type": "code",
   "execution_count": 47,
   "metadata": {},
   "outputs": [
    {
     "data": {
      "image/png": "[encoded data removed]",
      "text/plain": [
       "<Figure size 432x288 with 1 Axes>"
      ]
     },
     "metadata": {},
     "output_type": "display_data"
    }
   ],
   "source": [
    "%matplotlib inline\n",
    "import matplotlib.pyplot as plt\n",
    "import seaborn; seaborn.set() # Plot styling\n",
    "plt.scatter(X[:, 0], X[:, 1], s=100);"
   ]
  },
  {
   "cell_type": "code",
   "execution_count": 49,
   "metadata": {},
   "outputs": [
    {
     "data": {
      "text/plain": [
       "array([[0.        , 0.15051406, 0.1405466 , 0.32292363, 0.50203426,\n",
       "        1.02046572, 0.33017808, 0.94866988, 0.16609382, 0.19872033],\n",
       "       [0.15051406, 0.        , 0.11871086, 0.03425379, 0.52667471,\n",
       "        0.99676458, 0.30156543, 0.84129265, 0.41821187, 0.02293751],\n",
       "       [0.1405466 , 0.11871086, 0.        , 0.18151542, 0.15391124,\n",
       "        0.46636629, 0.05033748, 0.38856886, 0.1317014 , 0.06311092],\n",
       "       [0.32292363, 0.03425379, 0.18151542, 0.        , 0.57164624,\n",
       "        0.9897328 , 0.33861435, 0.80286603, 0.59826884, 0.03065408],\n",
       "       [0.50203426, 0.52667471, 0.15391124, 0.57164624, 0.        ,\n",
       "        0.09101881, 0.03145098, 0.07993914, 0.17823498, 0.36028304],\n",
       "       [1.02046572, 0.99676458, 0.46636629, 0.9897328 , 0.09101881,\n",
       "        0.        , 0.2104603 , 0.01644311, 0.48513352, 0.73899268],\n",
       "       [0.33017808, 0.30156543, 0.05033748, 0.33861435, 0.03145098,\n",
       "        0.2104603 , 0.        , 0.1618874 , 0.15057399, 0.17907733],\n",
       "       [0.94866988, 0.84129265, 0.38856886, 0.80286603, 0.07993914,\n",
       "        0.01644311, 0.1618874 , 0.        , 0.4951323 , 0.59702045],\n",
       "       [0.16609382, 0.41821187, 0.1317014 , 0.59826884, 0.17823498,\n",
       "        0.48513352, 0.15057399, 0.4951323 , 0.        , 0.36078024],\n",
       "       [0.19872033, 0.02293751, 0.06311092, 0.03065408, 0.36028304,\n",
       "        0.73899268, 0.17907733, 0.59702045, 0.36078024, 0.        ]])"
      ]
     },
     "execution_count": 49,
     "metadata": {},
     "output_type": "execute_result"
    }
   ],
   "source": [
    "dist_sq = np.sum((X[:, np.newaxis, :] - X[np.newaxis, :, :]) ** 2, axis=-1)\n",
    "dist_sq"
   ]
  }
 ],
 "metadata": {
  "kernelspec": {
   "display_name": "Python 3",
   "language": "python",
   "name": "python3"
  },
  "language_info": {
   "codemirror_mode": {
    "name": "ipython",
    "version": 3
   },
   "file_extension": ".py",
   "mimetype": "text/x-python",
   "name": "python",
   "nbconvert_exporter": "python",
   "pygments_lexer": "ipython3",
   "version": "3.8.3"
  }
 },
 "nbformat": 4,
 "nbformat_minor": 4
}
