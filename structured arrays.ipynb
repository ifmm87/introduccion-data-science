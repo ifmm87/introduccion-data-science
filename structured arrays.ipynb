{
 "cells": [
  {
   "cell_type": "code",
   "execution_count": 15,
   "metadata": {},
   "outputs": [
    {
     "name": "stdout",
     "output_type": "stream",
     "text": [
      "[('nombre', '<U10'), ('edad', '<i4'), ('peso', '<f8')]\n"
     ]
    },
    {
     "data": {
      "text/plain": [
       "array(['ivan', 'jorge'], dtype='<U10')"
      ]
     },
     "execution_count": 15,
     "metadata": {},
     "output_type": "execute_result"
    }
   ],
   "source": [
    "\n",
    "import numpy as np\n",
    "import pandas as pd\n",
    "data = np.zeros(4, dtype={'names': ('nombre', 'edad', 'peso'),\n",
    "                             'formats': ('U10', 'i4', 'f8')})\n",
    "\n",
    "print(data.dtype)\n",
    "data['nombre'] = ['ivan', 'jorge','gabino', 'roma']\n",
    "data['edad'] = [33,56,71,66]\n",
    "data['peso'] = [89, 90,100,56]\n",
    "\n",
    "data[-1]['nombre']\n",
    "data[data['edad'] < 57]['nombre']\n"
   ]
  }
 ],
 "metadata": {
  "kernelspec": {
   "display_name": "Python 3",
   "language": "python",
   "name": "python3"
  },
  "language_info": {
   "codemirror_mode": {
    "name": "ipython",
    "version": 3
   },
   "file_extension": ".py",
   "mimetype": "text/x-python",
   "name": "python",
   "nbconvert_exporter": "python",
   "pygments_lexer": "ipython3",
   "version": "3.8.3"
  }
 },
 "nbformat": 4,
 "nbformat_minor": 4
}
