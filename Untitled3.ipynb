{
 "cells": [
  {
   "cell_type": "code",
   "execution_count": 1,
   "metadata": {},
   "outputs": [],
   "source": [
    "import numpy as np"
   ]
  },
  {
   "cell_type": "code",
   "execution_count": 3,
   "metadata": {},
   "outputs": [
    {
     "data": {
      "text/plain": [
       "array([0.91511478, 0.33735765, 0.89703417, 0.7388266 , 0.85698621,\n",
       "       0.33973797, 0.67440265, 0.52425194, 0.53394465, 0.07525591,\n",
       "       0.55886793, 0.30906758, 0.41047382, 0.99926672, 0.19982179,\n",
       "       0.85603236, 0.90065529, 0.62192144, 0.9213495 , 0.06022473,\n",
       "       0.90102554, 0.61592023, 0.23371974, 0.7455405 , 0.25560412,\n",
       "       0.64676848, 0.82145679, 0.7492216 , 0.27364964, 0.25324356,\n",
       "       0.10384562, 0.68484385, 0.39543406, 0.22637541, 0.75343302,\n",
       "       0.31791861, 0.66159869, 0.74850868, 0.17859226, 0.24283489,\n",
       "       0.382967  , 0.13209899, 0.3109433 , 0.24172277, 0.12509646,\n",
       "       0.75095674, 0.68806573, 0.77110599, 0.84209775, 0.35984822,\n",
       "       0.37525054, 0.50163164, 0.85745491, 0.49441042, 0.70431405,\n",
       "       0.51643296, 0.72352511, 0.08912268, 0.15010533, 0.88451595,\n",
       "       0.06678765, 0.80404916, 0.64999692, 0.93490778, 0.94610212,\n",
       "       0.57775043, 0.37244284, 0.76233036, 0.38663608, 0.8014812 ,\n",
       "       0.67950575, 0.58359438, 0.35885127, 0.432378  , 0.58420379,\n",
       "       0.93232233, 0.43536556, 0.38586645, 0.85954908, 0.81612021,\n",
       "       0.82174476, 0.31121253, 0.05287015, 0.70135205, 0.13320967,\n",
       "       0.7184934 , 0.46753855, 0.62898011, 0.1448017 , 0.01233385,\n",
       "       0.23651448, 0.43016369, 0.90163673, 0.41187072, 0.34913387,\n",
       "       0.09477559, 0.77484605, 0.14913629, 0.17507034, 0.32097035])"
      ]
     },
     "execution_count": 3,
     "metadata": {},
     "output_type": "execute_result"
    }
   ],
   "source": [
    "L = np.random.random(100)\n",
    "L"
   ]
  },
  {
   "cell_type": "code",
   "execution_count": 4,
   "metadata": {},
   "outputs": [
    {
     "data": {
      "text/plain": [
       "51.64869173739365"
      ]
     },
     "execution_count": 4,
     "metadata": {},
     "output_type": "execute_result"
    }
   ],
   "source": [
    "np.sum(L)"
   ]
  },
  {
   "cell_type": "code",
   "execution_count": 12,
   "metadata": {},
   "outputs": [
    {
     "name": "stdout",
     "output_type": "stream",
     "text": [
      "[[14  2 29 25]\n",
      " [14  2  2  3]\n",
      " [17  5 21 26]\n",
      " [16 10  0  5]]\n"
     ]
    },
    {
     "data": {
      "text/plain": [
       "array([61, 19, 52, 59])"
      ]
     },
     "execution_count": 12,
     "metadata": {},
     "output_type": "execute_result"
    }
   ],
   "source": [
    "matriz = np.random.randint(33, size=(4,4))\n",
    "print(matriz)\n",
    "matriz.sum(axis=0)"
   ]
  },
  {
   "cell_type": "code",
   "execution_count": 16,
   "metadata": {},
   "outputs": [
    {
     "data": {
      "text/plain": [
       "array([14,  2,  0,  3])"
      ]
     },
     "execution_count": 16,
     "metadata": {},
     "output_type": "execute_result"
    }
   ],
   "source": [
    "matriz.min(axis=0)"
   ]
  },
  {
   "cell_type": "code",
   "execution_count": 18,
   "metadata": {},
   "outputs": [
    {
     "name": "stdout",
     "output_type": "stream",
     "text": [
      "[0 1 2] [[0]\n",
      " [1]\n",
      " [2]]\n"
     ]
    },
    {
     "data": {
      "text/plain": [
       "array([[0, 1, 2],\n",
       "       [1, 2, 3],\n",
       "       [2, 3, 4]])"
      ]
     },
     "execution_count": 18,
     "metadata": {},
     "output_type": "execute_result"
    }
   ],
   "source": [
    "a = np.arange(3)\n",
    "b = np.arange(3)[:,np.newaxis]\n",
    "print(a, b)\n",
    "a + b"
   ]
  }
 ],
 "metadata": {
  "kernelspec": {
   "display_name": "Python 3",
   "language": "python",
   "name": "python3"
  },
  "language_info": {
   "codemirror_mode": {
    "name": "ipython",
    "version": 3
   },
   "file_extension": ".py",
   "mimetype": "text/x-python",
   "name": "python",
   "nbconvert_exporter": "python",
   "pygments_lexer": "ipython3",
   "version": "3.8.3"
  }
 },
 "nbformat": 4,
 "nbformat_minor": 4
}
